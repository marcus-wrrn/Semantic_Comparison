{
 "cells": [
  {
   "cell_type": "code",
   "execution_count": 233,
   "metadata": {},
   "outputs": [],
   "source": [
    "from sentence_transformers import SentenceTransformer, util\n",
    "import numpy as np\n",
    "import csv\n",
    "import time\n",
    "from os.path import isfile\n",
    "import pandas as pd\n",
    "import re\n",
    "import spacy\n",
    "\n",
    "model = SentenceTransformer('all-mpnet-base-v2')"
   ]
  },
  {
   "cell_type": "code",
   "execution_count": 234,
   "metadata": {},
   "outputs": [],
   "source": [
    "import matplotlib.pyplot as plt\n",
    "embeddings_path = \"./archive/encodings.npy\"\n",
    "\n",
    "# Create sentance embeddings\n",
    "def create_embeddings(model : SentenceTransformer, text : list[str]):\n",
    "    # Create and save the encodings to the specified file\n",
    "    return np.array(model.encode(text, normalize_embeddings=True))\n",
    "\n",
    "\n",
    "def plot(tensor):\n",
    "  x = np.arange(len(tensor))\n",
    "  y = tensor\n",
    "  plt.plot(x,y)\n",
    "  plt.xlabel('Sample Number')\n",
    "  plt.ylabel('Similarity')\n",
    "  plt.title('Similarity scores')\n",
    "  plt.show()\n",
    "\n",
    "def find_similarity(model, embeddings, text):\n",
    "  question_embedding = model.encode(text)\n",
    "  print(len(question_embedding))\n",
    "  print(len(embeddings))\n",
    "  return util.dot_score(embeddings, question_embedding)\n",
    "\n",
    "def generate_all_text_emeddings(model, text: list[str]):\n",
    "   return [model.encode(val) for val in text]\n",
    "\n",
    "\n",
    "nlp = spacy.load('en_core_web_sm')\n",
    "def split_sentances(text: str):\n",
    "  #text = text.replace('\\n', '').replace('?', '').replace('.', '')\n",
    "\n",
    "  # Split the string into sentences using regular expression\n",
    "  return [sent.text for sent in nlp(text).sents]\n",
    "\n"
   ]
  },
  {
   "cell_type": "code",
   "execution_count": 235,
   "metadata": {},
   "outputs": [],
   "source": [
    "def prepare_dataframe(df: pd.DataFrame):\n",
    "    df[\"Split_Text\"] = df[\"ABSTRACT\"].apply(lambda x: split_sentances(x))\n",
    "\n",
    "\n",
    "df_test = pd.read_csv(\"./archive/test_tm/test.csv\")\n",
    "df_train = pd.read_csv(\"./archive/train_tm/train.csv\")\n",
    "\n",
    "\n",
    "vals = np.array([])\n",
    "prepare_dataframe(df_train)\n",
    "prepare_dataframe(df_test)\n",
    "\n",
    "df_train.head()\n",
    "#df_test.head()"
   ]
  },
  {
   "cell_type": "code",
   "execution_count": null,
   "metadata": {},
   "outputs": [
    {
     "name": "stdout",
     "output_type": "stream",
     "text": [
      "  We prove a general width duality theorem for combinatorial structures with\n",
      "well-defined notions of cohesion and separation.\n",
      "These might be graphs and\n",
      "matroids, but can be much more general or quite different.\n",
      "The theorem asserts\n",
      "a duality between the existence of high cohesiveness somewhere local and a\n",
      "global overall tree structure.\n",
      "We describe cohesive substructures in a unified way in the format of tangles:\n",
      "as orientations of low-order separations satisfying certain consistency axioms.\n",
      "These axioms can be expressed without reference to the underlying structure,\n",
      "such as a graph or matroid, but just in terms of the poset of the separations\n",
      "themselves.\n",
      "This makes it possible to identify tangles, and apply our\n",
      "tangle-tree duality theorem, in very diverse settings.\n",
      "Our result implies all the classical duality theorems for width parameters in\n",
      "graph minor theory, such as path-width, tree-width, branch-width or rank-width.\n",
      "It yields new, tangle-type, duality theorems for tree-width and path-width.\n",
      "It\n",
      "implies the existence of width parameters dual to cohesive substructures such\n",
      "as $k$-blocks, edge-tangles, or given subsets of tangles, for which no width\n",
      "duality theorems were previously known.\n",
      "Abstract separation systems can be found also in structures quite unlike\n",
      "graphs and matroids.\n",
      "For example, our theorem can be applied to image analysis\n",
      "by capturing the regions of an image as tangles of separations defined as\n",
      "natural partitions of its set of pixels.\n",
      "It can be applied in big data contexts\n",
      "by capturing clusters as tangles.\n",
      "It can be applied in the social sciences,\n",
      "e.g.\n",
      "by capturing as tangles the few typical mindsets of individuals found by a\n",
      "survey.\n",
      "It could also be applied in pure mathematics, e.g.\n",
      "to separations of\n",
      "compact manifolds.\n",
      "\n"
     ]
    }
   ],
   "source": [
    "df_train.to_csv(\"./archive/train_tm/train_processed.csv\")\n",
    "df_test.to_csv(\"./archive/test_tm/test_processed.csv\")\n",
    "\n",
    "text = df_train[\"Split_Text\"][800]\n",
    "encoding = create_embeddings(model, text)[0]\n",
    "len(encoding)\n",
    "# print(encoding)\n",
    "for val in text:\n",
    "    print(val)"
   ]
  },
  {
   "cell_type": "code",
   "execution_count": null,
   "metadata": {},
   "outputs": [
    {
     "name": "stdout",
     "output_type": "stream",
     "text": [
      "(11, 768)\n"
     ]
    }
   ],
   "source": [
    "results = [None] * len(text)\n",
    "all_embeddings = generate_all_text_emeddings(model, text)\n",
    "# for i in range(len(results)):\n",
    "#     results[i] = find_similarity(model, encoding, text[i])\n",
    "print(f\"({len(all_embeddings)}, {len(all_embeddings[0])})\")\n"
   ]
  },
  {
   "cell_type": "code",
   "execution_count": null,
   "metadata": {},
   "outputs": [
    {
     "name": "stdout",
     "output_type": "stream",
     "text": [
      "(11, 11)\n"
     ]
    }
   ],
   "source": [
    "results = np.ones((len(all_embeddings), len(all_embeddings)))\n",
    "print(results.shape)\n",
    "for i in range(len(all_embeddings)):\n",
    "    for j in range(len(all_embeddings)):\n",
    "        if i != j:\n",
    "            results[i,j] = util.dot_score(all_embeddings[i], all_embeddings[j])\n"
   ]
  },
  {
   "cell_type": "code",
   "execution_count": null,
   "metadata": {},
   "outputs": [
    {
     "name": "stdout",
     "output_type": "stream",
     "text": [
      "[[ 1.          0.26287282  0.57300395  0.531717    0.68745065  0.36638045\n",
      "   0.18204011  0.09634304  0.14073095  0.15693076  0.40186793]\n",
      " [ 0.26287282  1.          0.34923431  0.3201589   0.47004366  0.26993912\n",
      "   0.33663845  0.27491981  0.13662982  0.31273109  0.05509862]\n",
      " [ 0.57300395  0.34923431  1.          0.59120113  0.67672217  0.5396015\n",
      "   0.42571443  0.08893351  0.26617315  0.18194383  0.34724846]\n",
      " [ 0.531717    0.3201589   0.59120113  1.          0.67429721  0.41081023\n",
      "   0.38459399  0.12889862  0.22811653  0.189953    0.12753406]\n",
      " [ 0.68745065  0.47004366  0.67672217  0.67429721  1.          0.54441524\n",
      "   0.42647427  0.2345984   0.23885992  0.30857658  0.34078765]\n",
      " [ 0.36638045  0.26993912  0.5396015   0.41081023  0.54441524  1.\n",
      "   0.50163829  0.28378063  0.33259147  0.39035279  0.39589399]\n",
      " [ 0.18204011  0.33663845  0.42571443  0.38459399  0.42647427  0.50163829\n",
      "   1.          0.53251266  0.48538306  0.43514344  0.02380499]\n",
      " [ 0.09634304  0.27491981  0.08893351  0.12889862  0.2345984   0.28378063\n",
      "   0.53251266  1.          0.45581859  0.67187911 -0.05986618]\n",
      " [ 0.14073095  0.13662982  0.26617315  0.22811653  0.23885992  0.33259147\n",
      "   0.48538306  0.45581859  1.          0.22924224  0.07183211]\n",
      " [ 0.15693076  0.31273109  0.18194383  0.189953    0.30857658  0.39035279\n",
      "   0.43514344  0.67187911  0.22924224  1.         -0.00461988]\n",
      " [ 0.40186793  0.05509862  0.34724846  0.12753406  0.34078765  0.39589399\n",
      "   0.02380499 -0.05986618  0.07183211 -0.00461988  1.        ]]\n"
     ]
    }
   ],
   "source": [
    "print(results)"
   ]
  },
  {
   "cell_type": "code",
   "execution_count": null,
   "metadata": {},
   "outputs": [],
   "source": [
    "# Initialize avg array\n",
    "avg = [[None] * 2 for _ in range(len(results)) ]\n",
    "# calculate all average values found in the results\n",
    "for i in range(len(results)):\n",
    "    temp = results[i]\n",
    "    np.delete(temp, i)\n",
    "    avg[i][0] = np.sum(temp) / len(temp)\n",
    "    avg[i][1] = i\n",
    "\n",
    "avg.sort(key=lambda x: x[0])"
   ]
  },
  {
   "cell_type": "code",
   "execution_count": null,
   "metadata": {},
   "outputs": [
    {
     "data": {
      "image/png": "[encoded data removed]",
      "text/plain": [
       "<Figure size 640x480 with 1 Axes>"
      ]
     },
     "metadata": {},
     "output_type": "display_data"
    },
    {
     "name": "stdout",
     "output_type": "stream",
     "text": [
      "Val: 0.0805269171991809\n",
      "Val: 0.011130942201072525\n",
      "Val: 0.007313490252603194\n",
      "Val: 0.0076242146420885115\n",
      "Val: 0.04792769900946453\n",
      "Val: 0.017085729674859496\n",
      "Val: 0.013333003290674883\n",
      "Val: 0.027405456047166488\n",
      "Val: 0.0003975209864703344\n",
      "Val: 0.05113175375895063\n",
      "[[2, 3], [3, 4], [8, 9]]\n"
     ]
    }
   ],
   "source": [
    "sim_vals = [[avg[i][0] for i in range(len(avg))]][0]\n",
    "sim_ids =  [[avg[i][1] for i in range(len(avg))]][0]\n",
    "plot([avg[i][0] for i in range(len(avg))])\n",
    "\n",
    "threshold = 0.01\n",
    "val1 = sim_vals[0]\n",
    "\n",
    "indices = []\n",
    "for i in range(1, len(sim_vals)):\n",
    "    val2 = sim_vals[i]\n",
    "    val = val2 - val1\n",
    "    print(f\"Val: {val}\")\n",
    "    if val <= threshold:\n",
    "        indices.append([i-1, i])\n",
    "    val1 = val2\n",
    "\n",
    "print(indices)"
   ]
  },
  {
   "cell_type": "code",
   "execution_count": null,
   "metadata": {},
   "outputs": [
    {
     "name": "stdout",
     "output_type": "stream",
     "text": [
      "[[7, 1], [1, 9], [5, 2]]\n",
      "Text 1: The theorem asserts\n",
      "a duality between the existence of high cohesiveness somewhere local and a\n",
      "global overall tree structure.\n",
      "We describe cohesive substructures in a unified way in the format of tangles:\n",
      "as orientations of low-order separations satisfying certain consistency axioms.\n",
      "These axioms can be expressed without reference to the underlying structure,\n",
      "such as a graph or matroid, but just in terms of the poset of the separations\n",
      "themselves.\n",
      "Text 2: For example, our theorem can be applied to image analysis\n",
      "by capturing the regions of an image as tangles of separations defined as\n",
      "natural partitions of its set of pixels.\n",
      "Text: The theorem asserts\n",
      "a duality between the existence of high cohesiveness somewhere local and a\n",
      "global overall tree structure.\n",
      "We describe cohesive substructures in a unified way in the format of tangles:\n",
      "as orientations of low-order separations satisfying certain consistency axioms.\n",
      "These axioms can be expressed without reference to the underlying structure,\n",
      "such as a graph or matroid, but just in terms of the poset of the separations\n",
      "themselves.\n"
     ]
    }
   ],
   "source": [
    "pairs = [[None] * 2 for _ in range(len(indices))]\n",
    "for i in range(len(indices)):\n",
    "    pairs[i][0] = sim_ids[indices[i][0]]\n",
    "    pairs[i][1] = sim_ids[indices[i][1]]\n",
    "print(pairs)\n",
    "print(f\"Text 1: {text[pairs[2][1]]}\")\n",
    "print(f\"Text 2: {text[pairs[2][0]]}\")\n",
    "print(f\"Text: {text[2]}\")"
   ]
  },
  {
   "cell_type": "code",
   "execution_count": null,
   "metadata": {},
   "outputs": [],
   "source": []
  }
 ],
 "metadata": {
  "kernelspec": {
   "display_name": "Python 3",
   "language": "python",
   "name": "python3"
  },
  "language_info": {
   "codemirror_mode": {
    "name": "ipython",
    "version": 3
   },
   "file_extension": ".py",
   "mimetype": "text/x-python",
   "name": "python",
   "nbconvert_exporter": "python",
   "pygments_lexer": "ipython3",
   "version": "3.10.6"
  },
  "orig_nbformat": 4
 },
 "nbformat": 4,
 "nbformat_minor": 2
}
